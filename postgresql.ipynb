{
 "cells": [
  {
   "cell_type": "markdown",
   "id": "e545bfd9",
   "metadata": {},
   "source": [
    "# PostgreSQL Learning"
   ]
  },
  {
   "cell_type": "code",
   "execution_count": 7,
   "id": "2c447318",
   "metadata": {},
   "outputs": [
    {
     "name": "stdout",
     "output_type": "stream",
     "text": [
      "Hello World, Hope u able to learn it well\n"
     ]
    }
   ],
   "source": [
    "print(\"Hello World, Hope u able to learn it well\")"
   ]
  },
  {
   "cell_type": "markdown",
   "id": "a39015cd",
   "metadata": {},
   "source": [
    "# Create Database"
   ]
  },
  {
   "cell_type": "code",
   "execution_count": null,
   "id": "d280032d",
   "metadata": {
    "vscode": {
     "languageId": "sql"
    }
   },
   "outputs": [],
   "source": [
    "CREATE DATABASE test;\n",
    "DROP DATABASE test;\n",
    "\n",
    "\\l\tto check database"
   ]
  },
  {
   "cell_type": "code",
   "execution_count": null,
   "id": "98d576fc",
   "metadata": {
    "vscode": {
     "languageId": "sql"
    }
   },
   "outputs": [],
   "source": [
    "CREATE TABLE person (\n",
    "id INT,\n",
    "name VARCHAR(50),\n",
    "gender VARCHAR(7),\n",
    "date_of_birth DATE );"
   ]
  },
  {
   "cell_type": "code",
   "execution_count": null,
   "id": "9ce705e3",
   "metadata": {
    "vscode": {
     "languageId": "sql"
    }
   },
   "outputs": [],
   "source": [
    "\\d \tto get the table and sequence list\n",
    "\\dt\tjust only to get the table\n",
    "\\d person \tto get the specific table attributes"
   ]
  },
  {
   "cell_type": "code",
   "execution_count": null,
   "id": "48980267",
   "metadata": {
    "vscode": {
     "languageId": "sql"
    }
   },
   "outputs": [],
   "source": [
    "INSERT INTO person (name, gender, date_of_birth)\n",
    "VALUES ('Michelle', 'Female', date '2005-4-30');"
   ]
  },
  {
   "cell_type": "code",
   "execution_count": null,
   "id": "bc843333",
   "metadata": {
    "vscode": {
     "languageId": "sql"
    }
   },
   "outputs": [],
   "source": [
    "SELECT * FROM person\n",
    "SELECT name, gender FROM person"
   ]
  },
  {
   "cell_type": "code",
   "execution_count": null,
   "id": "8ebee257",
   "metadata": {
    "vscode": {
     "languageId": "sql"
    }
   },
   "outputs": [],
   "source": [
    "Import\n",
    "\\i 'C:/Users/User/Desktop/Project/PostgreSQL Tutorial/4 Hours Tutorial/person.sql'"
   ]
  },
  {
   "cell_type": "code",
   "execution_count": null,
   "id": "3872f64e",
   "metadata": {
    "vscode": {
     "languageId": "sql"
    }
   },
   "outputs": [],
   "source": [
    "Sort\n",
    "SELECT * FROM person ORDER BY country_of_birth ASC;\n",
    "SELECT * FROM person ORDER BY country_of_birth DESC;\n",
    "SELECT * FROM person ORDER BY country_of_birth, email DESC;"
   ]
  },
  {
   "cell_type": "code",
   "execution_count": null,
   "id": "b6e439a3",
   "metadata": {
    "vscode": {
     "languageId": "sql"
    }
   },
   "outputs": [],
   "source": [
    "Distinct (get data without repeat)\n",
    "SELECT DISTINCT name FROM person ORDER BY name ASC;"
   ]
  },
  {
   "cell_type": "code",
   "execution_count": null,
   "id": "1b0a6505",
   "metadata": {
    "vscode": {
     "languageId": "sql"
    }
   },
   "outputs": [],
   "source": [
    "Condition\n",
    "SELECT * FROM person WHERE gender = 'Female';\n",
    "SELECT * FROM person WHERE gender = 'Female' AND country_of_birth = 'China';\n",
    "SELECT * FROM person WHERE gender = 'Female' AND (country_of_birth = 'China' OR country_of_birth = 'Russia');"
   ]
  },
  {
   "cell_type": "code",
   "execution_count": null,
   "id": "ad4aa56c",
   "metadata": {
    "vscode": {
     "languageId": "sql"
    }
   },
   "outputs": [],
   "source": [
    "Comparison\n",
    "SELECT 'Chiken' <> 'Chicken'  ;\t(t) \n",
    "<> = not equal to"
   ]
  },
  {
   "cell_type": "code",
   "execution_count": null,
   "id": "b672f40d",
   "metadata": {
    "vscode": {
     "languageId": "sql"
    }
   },
   "outputs": [],
   "source": [
    "Limit | Offset | Fetch\n",
    "SELECT * FROM person LIMIT 10;\n",
    "SELECT * FROM person OFFSET 5; \t\t(eliminate first 5 rows)\n",
    "SELECT * FROM person OFFSET 5 FETCH FIRST 10 ROWS ONLY; \t(Same like Limit)"
   ]
  },
  {
   "cell_type": "code",
   "execution_count": null,
   "id": "eb3bda08",
   "metadata": {
    "vscode": {
     "languageId": "sql"
    }
   },
   "outputs": [],
   "source": [
    "In\n",
    "SELECT * FROM person WHERE country_of_birth IN ('China', 'Brazil', 'France');\n",
    "-\tInstead one write one by one using OR u can use IN"
   ]
  },
  {
   "cell_type": "code",
   "execution_count": null,
   "id": "2806698c",
   "metadata": {
    "vscode": {
     "languageId": "sql"
    }
   },
   "outputs": [],
   "source": [
    "Like\n",
    "SELECT * FROM person WHERE email LIKE 'p%.com';\n",
    "SELECT * FROM person WHERE email LIKE '%@google%';\n",
    "SELECT * FROM person WHERE email LIKE '_______%@google%';"
   ]
  },
  {
   "cell_type": "code",
   "execution_count": null,
   "id": "e3cf33d5",
   "metadata": {
    "vscode": {
     "languageId": "sql"
    }
   },
   "outputs": [],
   "source": [
    "--Having\n",
    "SELECT country_of_birth , COUNT(*) FROM person GROUP BY country_of_birth HAVING COUNT(*) > 5 ORDER BY country_of_birth ASC;"
   ]
  },
  {
   "cell_type": "code",
   "execution_count": null,
   "id": "fa10c7ba",
   "metadata": {
    "vscode": {
     "languageId": "sql"
    }
   },
   "outputs": [],
   "source": [
    "--Aggregate Functions\n",
    "SELECT MAX(price) FROM car;\n",
    "SELECT MIN(price) FROM car;\n",
    "SELECT AVG(price) FROM car;\n",
    "SELECT ROUND(AVG(price), 2) FROM car;\t\t-- round to 2 decimal\n",
    "SELECT make, model, MIN(price) FROM car GROUP BY make, model ;\n",
    "SELECT SUM(price) FROM car;\n",
    "SELECT make, SUM(price) FROM car GROUP BY make;"
   ]
  },
  {
   "cell_type": "code",
   "execution_count": null,
   "id": "5ccc2d45",
   "metadata": {
    "vscode": {
     "languageId": "sql"
    }
   },
   "outputs": [],
   "source": [
    "--Calculation\n",
    "SELECT id, make, model, price, price * 0.1 AS tax FROM car;\t\t-- tax = 10% of price\n",
    "SELECT id, make, model, price, ROUND(price * 10, 2), ROUND(price - (price * 0.1), 2)  FROM car;\t\t-- tax = 10% of price"
   ]
  },
  {
   "cell_type": "code",
   "execution_count": null,
   "id": "fe2e70ad",
   "metadata": {
    "vscode": {
     "languageId": "sql"
    }
   },
   "outputs": [],
   "source": [
    "--Alias\n",
    "SELECT id, make, model, price, ROUND(price * 0.1, 2) AS tax, ROUND(price - (price * 0.1),) AS price_after_tax FROM car;\t\t-- tax = 10% of price"
   ]
  },
  {
   "cell_type": "code",
   "execution_count": null,
   "id": "0fda90d7",
   "metadata": {
    "vscode": {
     "languageId": "sql"
    }
   },
   "outputs": [],
   "source": [
    "--Coalesce\n",
    "SELECT COALESCS(1);\n",
    "SELECT COALESCS(1) AS number;\n",
    "SELECT COALESCS(NULL, 1) AS number;\t\t-- if the first one is null it will take the second one\n",
    "SELECT COALESCS(NULL, NULL, 1) AS number;\t\t-- if the first two are null it will take the third one\n",
    "SELECT COALESCS(email, 'Email not provided') FROM person;\t\t-- if the email is null it will take the second one"
   ]
  },
  {
   "cell_type": "code",
   "execution_count": null,
   "id": "b556dcf6",
   "metadata": {
    "vscode": {
     "languageId": "sql"
    }
   },
   "outputs": [],
   "source": [
    "--NULLIF\n",
    "SELECT NULLIF(10, 10);      (nullif)\n",
    "SELECT COALESCE(10/NULLIF(0,0), 0);        (0) -- if the second one is 0 it will take the first one"
   ]
  },
  {
   "cell_type": "code",
   "execution_count": null,
   "id": "ac4474ae",
   "metadata": {
    "vscode": {
     "languageId": "sql"
    }
   },
   "outputs": [],
   "source": [
    "--NOW()\n",
    "SELECT NOW();\t\t-- get the current date and time\n",
    "SELECT NOW()::DATE;\t\t-- get the current date\n",
    "SELECT NOW()::TIME;\t\t-- get the current time\n",
    "\n",
    "SELECT NOW() - INTERVAL '1 DAY';\t\t-- get the current date and time minus 1 day\n",
    "SELECT NOW() - INTERVAL '1 YEAR';\t\t-- get the current date and time minus 1 hour\n",
    "\n",
    "SELECT EXTRACT(YEAR FROM NOW());\t\t-- get the current year\n",
    "SELECT EXTRACT(MONTH FROM NOW());\t\t-- get the current month"
   ]
  },
  {
   "cell_type": "code",
   "execution_count": null,
   "id": "3794ea55",
   "metadata": {
    "vscode": {
     "languageId": "sql"
    }
   },
   "outputs": [],
   "source": [
    "--AGE()\n",
    "SELECT AGE(NOW(), date_of_birth) AS age FROM person;\t\t-- get the age between two dates"
   ]
  },
  {
   "cell_type": "code",
   "execution_count": null,
   "id": "0e1fda62",
   "metadata": {
    "vscode": {
     "languageId": "sql"
    }
   },
   "outputs": [],
   "source": [
    "--Change Primary Key\n",
    "ALTER TABLE person DROP CONSTRAINT person_pkey;\t\t-- drop the primary key\n",
    "ALTER TABLE person ADD PRIMARY KEY (id);\t\t-- add the primary key\n",
    "ALTER TABLE person ADD CONSTRAINT unique_email_address UNIQUE (email);\n",
    "ALTER TABLE person DROP CONSTRAINT unique_email_address;\t\t-- drop the unique constraint"
   ]
  },
  {
   "cell_type": "code",
   "execution_count": null,
   "id": "43acb105",
   "metadata": {
    "vscode": {
     "languageId": "sql"
    }
   },
   "outputs": [],
   "source": [
    "--Check Contraint\n",
    "ALTER TABLE person ADD CONSTRAINT gender_contraint CHECK (gender = 'Female' OR gender = 'Male');"
   ]
  },
  {
   "cell_type": "code",
   "execution_count": null,
   "id": "b5ee5d12",
   "metadata": {
    "vscode": {
     "languageId": "sql"
    }
   },
   "outputs": [],
   "source": [
    "--Update Command\n",
    "UPDATE person SET email = 'ommar@gmail.com' WHERE id = 1000;\n",
    "UPDATE person SET email = 'ommar@gmail.com' , first_name = 'Michelle' WHERE id = 90;"
   ]
  },
  {
   "cell_type": "code",
   "execution_count": null,
   "id": "86db24d3",
   "metadata": {
    "vscode": {
     "languageId": "sql"
    }
   },
   "outputs": [],
   "source": [
    "--ON CONFLICT\n",
    "insert into person (first_name, last_name, gender, date_of_birth, email, country_of_birth) values ('Fonz', 'Aguirrezabala', 'Male', '2025-01-12', 'faguirrezabala1@aboutads.info', 'Nigeria')\n",
    "postgres-# ON CONFLICT (id) DO NOTHING;     --nothing will change\n",
    "insert into person (first_name, last_name, gender, date_of_birth, email, country_of_birth) values ('Fonz', 'Aguirrezabala', 'Male', '2025-01-12', 'faguirrezabala1@aboutads.info', 'Nigeria') ON CONFLICT (id) DO UPDATE SET email = EXCLUDED.email;     -- update the email if the id is already exist--if u wanna change the data under conflict.\n",
    "insert into person (first_name, last_name, gender, date_of_birth, email, country_of_birth) values ('Fonz', 'Aguirrezabala', 'Male', '2025-01-12', 'faguirrezabala1@aboutads.info', 'Nigeria') ON CONFLICT (id) DO UPDATE SET email = EXCLUDED.email , first_name = EXCLUDED.first_name;     -- update the email and first name if the id is already exist--if u wanna change the data under conflict."
   ]
  },
  {
   "cell_type": "code",
   "execution_count": null,
   "id": "51f4efe7",
   "metadata": {
    "vscode": {
     "languageId": "sql"
    }
   },
   "outputs": [],
   "source": [
    "--Foreign Key\n",
    "create table person (\n",
    "    id BIGSERIAL NOT NULL PRIMARY KEY,\n",
    "    first_name VARCHAR(50) NOT NULL,\n",
    "    last_name VARCHAR(50) NOT NULL,\n",
    "    gender VARCHAR(7) NOT NULL,\n",
    "    email VARCHAR(50),\n",
    "    date_of_birth DATE NOT NULL,\n",
    "    country_of_birth VARCHAR(50) NOT NULL,\n",
    "    car_id BIGINT REFERENCES car (id),\n",
    "    UNIQUE(car_id)\n",
    ")\n",
    "create table car (\n",
    "    id BIGSERIAL NOT NULL PRIMARY KEY,\n",
    "    make VARCHAR(50) NOT NULL,\n",
    "    model VARCHAR(50) NOT NULL,\n",
    "    price NUMERIC(10, 2) NOT NULL\n",
    ");"
   ]
  },
  {
   "cell_type": "code",
   "execution_count": null,
   "id": "b6a20e2a",
   "metadata": {
    "vscode": {
     "languageId": "sql"
    }
   },
   "outputs": [],
   "source": [
    "-- Update foreign key to person table\n",
    "UPDATE person SET car_id = 2 WHERE id = 1;"
   ]
  },
  {
   "cell_type": "code",
   "execution_count": null,
   "id": "e45f01b8",
   "metadata": {
    "vscode": {
     "languageId": "sql"
    }
   },
   "outputs": [],
   "source": [
    "--Inner Join\n",
    "SELECT * FROM person JOIN car ON person.car_id = car.id;\n",
    "SELECT person.first_name, car.make, car.model, car.price FROM person JOIN car ON person.car_id = car.id;"
   ]
  },
  {
   "cell_type": "code",
   "execution_count": null,
   "id": "942e8126",
   "metadata": {
    "vscode": {
     "languageId": "sql"
    }
   },
   "outputs": [],
   "source": [
    "--Left Join\n",
    "SELECT * FROM person LEFT JOIN car ON car.id = person.car_id;\n",
    "SELECT * FROM person LEFT JOIN car ON car.id = person.car_id WHERE car.* IS NULL;\t\t-- get the data from person table which is not in the car table"
   ]
  },
  {
   "cell_type": "code",
   "execution_count": null,
   "id": "9cbc548a",
   "metadata": {
    "vscode": {
     "languageId": "sql"
    }
   },
   "outputs": [],
   "source": [
    "--To change SQL to CSV File\n",
    "\\COPY (SELECT * FROM person) TO 'C:/Users/User/Desktop/Project/PostgreSQL Tutorial/4 Hours Tutorial/person.csv' DELIMITER ',' CSV HEADER;\t\t-- to change the SQL to CSV file"
   ]
  },
  {
   "cell_type": "code",
   "execution_count": null,
   "id": "5174b232",
   "metadata": {
    "vscode": {
     "languageId": "sql"
    }
   },
   "outputs": [],
   "source": [
    "--To aincreasethe number of id\n",
    "SELECT nextval('person_id_seq'::regclass);\n",
    "\n",
    "--To restart the number of id\n",
    "ALTER SEQUENCE person_id_seq RESTART WITH 10;"
   ]
  },
  {
   "cell_type": "code",
   "execution_count": null,
   "id": "fd8e6f8c",
   "metadata": {
    "vscode": {
     "languageId": "sql"
    }
   },
   "outputs": [],
   "source": [
    "--To get extensions\n",
    "SELECT * FROM pg_available_extensions;\t\t-- to get the list of extensions\n",
    "\n",
    "--Create extensions\n",
    "CREATE EXTENSION IF NOT EXISTS \"uuid-ossp\";\t\t-- to create the extension\n",
    "\n",
    "--show function of extension\n",
    "\\df\n",
    "\n",
    "--Insert uuid\n",
    "insert into person (person_uid, first_name, last_name, gender, date_of_birth, email, country_of_birth) values (uuid_generate_v4(), 'Fonz', 'Aguirrezabala', 'Male', '2025-01-12', 'faguirrezabala1@aboutads.info', 'Nigeria');"
   ]
  }
 ],
 "metadata": {
  "kernelspec": {
   "display_name": "Python 3",
   "language": "python",
   "name": "python3"
  },
  "language_info": {
   "codemirror_mode": {
    "name": "ipython",
    "version": 3
   },
   "file_extension": ".py",
   "mimetype": "text/x-python",
   "name": "python",
   "nbconvert_exporter": "python",
   "pygments_lexer": "ipython3",
   "version": "3.12.3"
  }
 },
 "nbformat": 4,
 "nbformat_minor": 5
}
