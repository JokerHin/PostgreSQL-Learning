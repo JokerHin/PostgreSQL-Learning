{
 "cells": [
  {
   "cell_type": "markdown",
   "id": "e545bfd9",
   "metadata": {},
   "source": [
    "# PostgreSQL Learning"
   ]
  },
  {
   "cell_type": "code",
   "execution_count": 7,
   "id": "2c447318",
   "metadata": {},
   "outputs": [
    {
     "name": "stdout",
     "output_type": "stream",
     "text": [
      "Hello World, Hope u able to learn it well\n"
     ]
    }
   ],
   "source": [
    "print(\"Hello World, Hope u able to learn it well\")"
   ]
  },
  {
   "cell_type": "markdown",
   "id": "a39015cd",
   "metadata": {},
   "source": [
    "# Create Database"
   ]
  },
  {
   "cell_type": "code",
   "execution_count": null,
   "id": "d280032d",
   "metadata": {
    "vscode": {
     "languageId": "sql"
    }
   },
   "outputs": [],
   "source": [
    "CREATE DATABASE test;\n",
    "DROP DATABASE test;\n",
    "\n",
    "\\l\tto check database"
   ]
  },
  {
   "cell_type": "code",
   "execution_count": null,
   "id": "98d576fc",
   "metadata": {
    "vscode": {
     "languageId": "sql"
    }
   },
   "outputs": [],
   "source": [
    "CREATE TABLE person (\n",
    "id INT,\n",
    "name VARCHAR(50),\n",
    "gender VARCHAR(7),\n",
    "date_of_birth DATE );"
   ]
  },
  {
   "cell_type": "code",
   "execution_count": null,
   "id": "9ce705e3",
   "metadata": {
    "vscode": {
     "languageId": "sql"
    }
   },
   "outputs": [],
   "source": [
    "\\d \tto get the table and sequence list\n",
    "\\dt\tjust only to get the table\n",
    "\\d person \tto get the specific table attributes"
   ]
  },
  {
   "cell_type": "code",
   "execution_count": null,
   "id": "48980267",
   "metadata": {
    "vscode": {
     "languageId": "sql"
    }
   },
   "outputs": [],
   "source": [
    "INSERT INTO person (name, gender, date_of_birth)\n",
    "VALUES ('Michelle', 'Female', date '2005-4-30');"
   ]
  },
  {
   "cell_type": "code",
   "execution_count": null,
   "id": "bc843333",
   "metadata": {
    "vscode": {
     "languageId": "sql"
    }
   },
   "outputs": [],
   "source": [
    "SELECT * FROM person\n",
    "SELECT name, gender FROM person"
   ]
  },
  {
   "cell_type": "code",
   "execution_count": null,
   "id": "8ebee257",
   "metadata": {
    "vscode": {
     "languageId": "sql"
    }
   },
   "outputs": [],
   "source": [
    "Import\n",
    "\\i 'C:/Users/User/Desktop/Project/PostgreSQL Tutorial/4 Hours Tutorial/person.sql'"
   ]
  },
  {
   "cell_type": "code",
   "execution_count": null,
   "id": "3872f64e",
   "metadata": {
    "vscode": {
     "languageId": "sql"
    }
   },
   "outputs": [],
   "source": [
    "Sort\n",
    "SELECT * FROM person ORDER BY country_of_birth ASC;\n",
    "SELECT * FROM person ORDER BY country_of_birth DESC;\n",
    "SELECT * FROM person ORDER BY country_of_birth, email DESC;"
   ]
  },
  {
   "cell_type": "code",
   "execution_count": null,
   "id": "b6e439a3",
   "metadata": {
    "vscode": {
     "languageId": "sql"
    }
   },
   "outputs": [],
   "source": [
    "Distinct (get data without repeat)\n",
    "SELECT DISTINCT name FROM person ORDER BY name ASC;"
   ]
  },
  {
   "cell_type": "code",
   "execution_count": null,
   "id": "1b0a6505",
   "metadata": {
    "vscode": {
     "languageId": "sql"
    }
   },
   "outputs": [],
   "source": [
    "Condition\n",
    "SELECT * FROM person WHERE gender = 'Female';\n",
    "SELECT * FROM person WHERE gender = 'Female' AND country_of_birth = 'China';\n",
    "SELECT * FROM person WHERE gender = 'Female' AND (country_of_birth = 'China' OR country_of_birth = 'Russia');"
   ]
  },
  {
   "cell_type": "code",
   "execution_count": null,
   "id": "ad4aa56c",
   "metadata": {
    "vscode": {
     "languageId": "sql"
    }
   },
   "outputs": [],
   "source": [
    "Comparison\n",
    "SELECT 'Chiken' <> 'Chicken'  ;\t(t) \n",
    "<> = not equal to"
   ]
  },
  {
   "cell_type": "code",
   "execution_count": null,
   "id": "b672f40d",
   "metadata": {
    "vscode": {
     "languageId": "sql"
    }
   },
   "outputs": [],
   "source": [
    "Limit | Offset | Fetch\n",
    "SELECT * FROM person LIMIT 10;\n",
    "SELECT * FROM person OFFSET 5; \t\t(eliminate first 5 rows)\n",
    "SELECT * FROM person OFFSET 5 FETCH FIRST 10 ROWS ONLY; \t(Same like Limit)"
   ]
  },
  {
   "cell_type": "code",
   "execution_count": null,
   "id": "eb3bda08",
   "metadata": {
    "vscode": {
     "languageId": "sql"
    }
   },
   "outputs": [],
   "source": [
    "In\n",
    "SELECT * FROM person WHERE country_of_birth IN ('China', 'Brazil', 'France');\n",
    "-\tInstead one write one by one using OR u can use IN"
   ]
  },
  {
   "cell_type": "code",
   "execution_count": null,
   "id": "2806698c",
   "metadata": {
    "vscode": {
     "languageId": "sql"
    }
   },
   "outputs": [],
   "source": [
    "Like\n",
    "SELECT * FROM person WHERE email LIKE 'p%.com';\n",
    "SELECT * FROM person WHERE email LIKE '%@google%';\n",
    "SELECT * FROM person WHERE email LIKE '_______%@google%';"
   ]
  },
  {
   "cell_type": "code",
   "execution_count": null,
   "id": "e3cf33d5",
   "metadata": {
    "vscode": {
     "languageId": "sql"
    }
   },
   "outputs": [],
   "source": []
  }
 ],
 "metadata": {
  "kernelspec": {
   "display_name": "Python 3",
   "language": "python",
   "name": "python3"
  },
  "language_info": {
   "codemirror_mode": {
    "name": "ipython",
    "version": 3
   },
   "file_extension": ".py",
   "mimetype": "text/x-python",
   "name": "python",
   "nbconvert_exporter": "python",
   "pygments_lexer": "ipython3",
   "version": "3.12.3"
  }
 },
 "nbformat": 4,
 "nbformat_minor": 5
}
